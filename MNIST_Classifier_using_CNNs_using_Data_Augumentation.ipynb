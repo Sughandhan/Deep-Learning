{
  "nbformat": 4,
  "nbformat_minor": 0,
  "metadata": {
    "colab": {
      "name": "MNIST Classifier using CNNs using Data Augumentation",
      "provenance": [],
      "collapsed_sections": [],
      "include_colab_link": true
    },
    "kernelspec": {
      "name": "python3",
      "display_name": "Python 3"
    },
    "language_info": {
      "name": "python"
    }
  },
  "cells": [
    {
      "cell_type": "markdown",
      "metadata": {
        "id": "view-in-github",
        "colab_type": "text"
      },
      "source": [
        "<a href=\"https://colab.research.google.com/github/varunganta/Deep-Learning/blob/main/MNIST_Classifier_using_CNNs_using_Data_Augumentation.ipynb\" target=\"_parent\"><img src=\"https://colab.research.google.com/assets/colab-badge.svg\" alt=\"Open In Colab\"/></a>"
      ]
    },
    {
      "cell_type": "code",
      "metadata": {
        "id": "HNqoAYR4HzX6"
      },
      "source": [
        "import tensorflow as tf\n",
        "import tensorflow.keras as keras\n",
        "from tensorflow.keras.datasets import mnist"
      ],
      "execution_count": 4,
      "outputs": []
    },
    {
      "cell_type": "code",
      "metadata": {
        "id": "wT3X-QnxA-_y"
      },
      "source": [
        "import numpy as np\n",
        "import pandas as pd\n",
        "import matplotlib.pyplot as plt"
      ],
      "execution_count": 5,
      "outputs": []
    },
    {
      "cell_type": "code",
      "metadata": {
        "colab": {
          "base_uri": "https://localhost:8080/"
        },
        "id": "Kfr7ePqmIVlg",
        "outputId": "5496cd46-e52d-4553-d16d-7ff004b6e433"
      },
      "source": [
        "dataset = mnist.load_data()\n",
        "dataset"
      ],
      "execution_count": 6,
      "outputs": [
        {
          "output_type": "execute_result",
          "data": {
            "text/plain": [
              "((array([[[0, 0, 0, ..., 0, 0, 0],\n",
              "          [0, 0, 0, ..., 0, 0, 0],\n",
              "          [0, 0, 0, ..., 0, 0, 0],\n",
              "          ...,\n",
              "          [0, 0, 0, ..., 0, 0, 0],\n",
              "          [0, 0, 0, ..., 0, 0, 0],\n",
              "          [0, 0, 0, ..., 0, 0, 0]],\n",
              "  \n",
              "         [[0, 0, 0, ..., 0, 0, 0],\n",
              "          [0, 0, 0, ..., 0, 0, 0],\n",
              "          [0, 0, 0, ..., 0, 0, 0],\n",
              "          ...,\n",
              "          [0, 0, 0, ..., 0, 0, 0],\n",
              "          [0, 0, 0, ..., 0, 0, 0],\n",
              "          [0, 0, 0, ..., 0, 0, 0]],\n",
              "  \n",
              "         [[0, 0, 0, ..., 0, 0, 0],\n",
              "          [0, 0, 0, ..., 0, 0, 0],\n",
              "          [0, 0, 0, ..., 0, 0, 0],\n",
              "          ...,\n",
              "          [0, 0, 0, ..., 0, 0, 0],\n",
              "          [0, 0, 0, ..., 0, 0, 0],\n",
              "          [0, 0, 0, ..., 0, 0, 0]],\n",
              "  \n",
              "         ...,\n",
              "  \n",
              "         [[0, 0, 0, ..., 0, 0, 0],\n",
              "          [0, 0, 0, ..., 0, 0, 0],\n",
              "          [0, 0, 0, ..., 0, 0, 0],\n",
              "          ...,\n",
              "          [0, 0, 0, ..., 0, 0, 0],\n",
              "          [0, 0, 0, ..., 0, 0, 0],\n",
              "          [0, 0, 0, ..., 0, 0, 0]],\n",
              "  \n",
              "         [[0, 0, 0, ..., 0, 0, 0],\n",
              "          [0, 0, 0, ..., 0, 0, 0],\n",
              "          [0, 0, 0, ..., 0, 0, 0],\n",
              "          ...,\n",
              "          [0, 0, 0, ..., 0, 0, 0],\n",
              "          [0, 0, 0, ..., 0, 0, 0],\n",
              "          [0, 0, 0, ..., 0, 0, 0]],\n",
              "  \n",
              "         [[0, 0, 0, ..., 0, 0, 0],\n",
              "          [0, 0, 0, ..., 0, 0, 0],\n",
              "          [0, 0, 0, ..., 0, 0, 0],\n",
              "          ...,\n",
              "          [0, 0, 0, ..., 0, 0, 0],\n",
              "          [0, 0, 0, ..., 0, 0, 0],\n",
              "          [0, 0, 0, ..., 0, 0, 0]]], dtype=uint8),\n",
              "  array([5, 0, 4, ..., 5, 6, 8], dtype=uint8)),\n",
              " (array([[[0, 0, 0, ..., 0, 0, 0],\n",
              "          [0, 0, 0, ..., 0, 0, 0],\n",
              "          [0, 0, 0, ..., 0, 0, 0],\n",
              "          ...,\n",
              "          [0, 0, 0, ..., 0, 0, 0],\n",
              "          [0, 0, 0, ..., 0, 0, 0],\n",
              "          [0, 0, 0, ..., 0, 0, 0]],\n",
              "  \n",
              "         [[0, 0, 0, ..., 0, 0, 0],\n",
              "          [0, 0, 0, ..., 0, 0, 0],\n",
              "          [0, 0, 0, ..., 0, 0, 0],\n",
              "          ...,\n",
              "          [0, 0, 0, ..., 0, 0, 0],\n",
              "          [0, 0, 0, ..., 0, 0, 0],\n",
              "          [0, 0, 0, ..., 0, 0, 0]],\n",
              "  \n",
              "         [[0, 0, 0, ..., 0, 0, 0],\n",
              "          [0, 0, 0, ..., 0, 0, 0],\n",
              "          [0, 0, 0, ..., 0, 0, 0],\n",
              "          ...,\n",
              "          [0, 0, 0, ..., 0, 0, 0],\n",
              "          [0, 0, 0, ..., 0, 0, 0],\n",
              "          [0, 0, 0, ..., 0, 0, 0]],\n",
              "  \n",
              "         ...,\n",
              "  \n",
              "         [[0, 0, 0, ..., 0, 0, 0],\n",
              "          [0, 0, 0, ..., 0, 0, 0],\n",
              "          [0, 0, 0, ..., 0, 0, 0],\n",
              "          ...,\n",
              "          [0, 0, 0, ..., 0, 0, 0],\n",
              "          [0, 0, 0, ..., 0, 0, 0],\n",
              "          [0, 0, 0, ..., 0, 0, 0]],\n",
              "  \n",
              "         [[0, 0, 0, ..., 0, 0, 0],\n",
              "          [0, 0, 0, ..., 0, 0, 0],\n",
              "          [0, 0, 0, ..., 0, 0, 0],\n",
              "          ...,\n",
              "          [0, 0, 0, ..., 0, 0, 0],\n",
              "          [0, 0, 0, ..., 0, 0, 0],\n",
              "          [0, 0, 0, ..., 0, 0, 0]],\n",
              "  \n",
              "         [[0, 0, 0, ..., 0, 0, 0],\n",
              "          [0, 0, 0, ..., 0, 0, 0],\n",
              "          [0, 0, 0, ..., 0, 0, 0],\n",
              "          ...,\n",
              "          [0, 0, 0, ..., 0, 0, 0],\n",
              "          [0, 0, 0, ..., 0, 0, 0],\n",
              "          [0, 0, 0, ..., 0, 0, 0]]], dtype=uint8),\n",
              "  array([7, 2, 1, ..., 4, 5, 6], dtype=uint8)))"
            ]
          },
          "metadata": {
            "tags": []
          },
          "execution_count": 6
        }
      ]
    },
    {
      "cell_type": "code",
      "metadata": {
        "id": "DZmimo_pInri"
      },
      "source": [
        "(x_train, y_train), (x_test, y_test) = mnist.load_data()"
      ],
      "execution_count": 7,
      "outputs": []
    },
    {
      "cell_type": "markdown",
      "metadata": {
        "id": "3Rt8vNsNKZBI"
      },
      "source": [
        "Dataset shapes"
      ]
    },
    {
      "cell_type": "code",
      "metadata": {
        "colab": {
          "base_uri": "https://localhost:8080/"
        },
        "id": "dl_p9JhXJM9A",
        "outputId": "8fa5395a-c825-45b0-d4ba-a724b22b6c5e"
      },
      "source": [
        "x_train.shape"
      ],
      "execution_count": 8,
      "outputs": [
        {
          "output_type": "execute_result",
          "data": {
            "text/plain": [
              "(60000, 28, 28)"
            ]
          },
          "metadata": {
            "tags": []
          },
          "execution_count": 8
        }
      ]
    },
    {
      "cell_type": "code",
      "metadata": {
        "colab": {
          "base_uri": "https://localhost:8080/"
        },
        "id": "4Y4CeK5rJrf8",
        "outputId": "9f9913a6-889a-4c6f-8208-5647eeb2ca0a"
      },
      "source": [
        "y_train.shape"
      ],
      "execution_count": 9,
      "outputs": [
        {
          "output_type": "execute_result",
          "data": {
            "text/plain": [
              "(60000,)"
            ]
          },
          "metadata": {
            "tags": []
          },
          "execution_count": 9
        }
      ]
    },
    {
      "cell_type": "code",
      "metadata": {
        "colab": {
          "base_uri": "https://localhost:8080/"
        },
        "id": "TzrbuAIhJsfb",
        "outputId": "3f7b7f04-8692-4d8a-e291-41ccff2835dd"
      },
      "source": [
        "x_test.shape"
      ],
      "execution_count": 10,
      "outputs": [
        {
          "output_type": "execute_result",
          "data": {
            "text/plain": [
              "(10000, 28, 28)"
            ]
          },
          "metadata": {
            "tags": []
          },
          "execution_count": 10
        }
      ]
    },
    {
      "cell_type": "code",
      "metadata": {
        "colab": {
          "base_uri": "https://localhost:8080/"
        },
        "id": "YnTBNYaIJ4FF",
        "outputId": "c424c977-f10b-46b2-8166-03dafb4c3beb"
      },
      "source": [
        "y_test.shape"
      ],
      "execution_count": 11,
      "outputs": [
        {
          "output_type": "execute_result",
          "data": {
            "text/plain": [
              "(10000,)"
            ]
          },
          "metadata": {
            "tags": []
          },
          "execution_count": 11
        }
      ]
    },
    {
      "cell_type": "code",
      "metadata": {
        "colab": {
          "base_uri": "https://localhost:8080/"
        },
        "id": "uWJRpyGoJ5bx",
        "outputId": "968fbd91-87bb-4420-8b8f-a25194fb697c"
      },
      "source": [
        "x_train.max()"
      ],
      "execution_count": 12,
      "outputs": [
        {
          "output_type": "execute_result",
          "data": {
            "text/plain": [
              "255"
            ]
          },
          "metadata": {
            "tags": []
          },
          "execution_count": 12
        }
      ]
    },
    {
      "cell_type": "code",
      "metadata": {
        "colab": {
          "base_uri": "https://localhost:8080/"
        },
        "id": "ne15xS5WJ9Kn",
        "outputId": "7084f457-2d24-4f62-c382-6be21650ab22"
      },
      "source": [
        "x_train.min()"
      ],
      "execution_count": 13,
      "outputs": [
        {
          "output_type": "execute_result",
          "data": {
            "text/plain": [
              "0"
            ]
          },
          "metadata": {
            "tags": []
          },
          "execution_count": 13
        }
      ]
    },
    {
      "cell_type": "code",
      "metadata": {
        "colab": {
          "base_uri": "https://localhost:8080/"
        },
        "id": "NSIlSOweJ_Cc",
        "outputId": "7da04fbf-b5c7-4f86-8efb-47812cc3b0f3"
      },
      "source": [
        "x_train[0]"
      ],
      "execution_count": 14,
      "outputs": [
        {
          "output_type": "execute_result",
          "data": {
            "text/plain": [
              "array([[  0,   0,   0,   0,   0,   0,   0,   0,   0,   0,   0,   0,   0,\n",
              "          0,   0,   0,   0,   0,   0,   0,   0,   0,   0,   0,   0,   0,\n",
              "          0,   0],\n",
              "       [  0,   0,   0,   0,   0,   0,   0,   0,   0,   0,   0,   0,   0,\n",
              "          0,   0,   0,   0,   0,   0,   0,   0,   0,   0,   0,   0,   0,\n",
              "          0,   0],\n",
              "       [  0,   0,   0,   0,   0,   0,   0,   0,   0,   0,   0,   0,   0,\n",
              "          0,   0,   0,   0,   0,   0,   0,   0,   0,   0,   0,   0,   0,\n",
              "          0,   0],\n",
              "       [  0,   0,   0,   0,   0,   0,   0,   0,   0,   0,   0,   0,   0,\n",
              "          0,   0,   0,   0,   0,   0,   0,   0,   0,   0,   0,   0,   0,\n",
              "          0,   0],\n",
              "       [  0,   0,   0,   0,   0,   0,   0,   0,   0,   0,   0,   0,   0,\n",
              "          0,   0,   0,   0,   0,   0,   0,   0,   0,   0,   0,   0,   0,\n",
              "          0,   0],\n",
              "       [  0,   0,   0,   0,   0,   0,   0,   0,   0,   0,   0,   0,   3,\n",
              "         18,  18,  18, 126, 136, 175,  26, 166, 255, 247, 127,   0,   0,\n",
              "          0,   0],\n",
              "       [  0,   0,   0,   0,   0,   0,   0,   0,  30,  36,  94, 154, 170,\n",
              "        253, 253, 253, 253, 253, 225, 172, 253, 242, 195,  64,   0,   0,\n",
              "          0,   0],\n",
              "       [  0,   0,   0,   0,   0,   0,   0,  49, 238, 253, 253, 253, 253,\n",
              "        253, 253, 253, 253, 251,  93,  82,  82,  56,  39,   0,   0,   0,\n",
              "          0,   0],\n",
              "       [  0,   0,   0,   0,   0,   0,   0,  18, 219, 253, 253, 253, 253,\n",
              "        253, 198, 182, 247, 241,   0,   0,   0,   0,   0,   0,   0,   0,\n",
              "          0,   0],\n",
              "       [  0,   0,   0,   0,   0,   0,   0,   0,  80, 156, 107, 253, 253,\n",
              "        205,  11,   0,  43, 154,   0,   0,   0,   0,   0,   0,   0,   0,\n",
              "          0,   0],\n",
              "       [  0,   0,   0,   0,   0,   0,   0,   0,   0,  14,   1, 154, 253,\n",
              "         90,   0,   0,   0,   0,   0,   0,   0,   0,   0,   0,   0,   0,\n",
              "          0,   0],\n",
              "       [  0,   0,   0,   0,   0,   0,   0,   0,   0,   0,   0, 139, 253,\n",
              "        190,   2,   0,   0,   0,   0,   0,   0,   0,   0,   0,   0,   0,\n",
              "          0,   0],\n",
              "       [  0,   0,   0,   0,   0,   0,   0,   0,   0,   0,   0,  11, 190,\n",
              "        253,  70,   0,   0,   0,   0,   0,   0,   0,   0,   0,   0,   0,\n",
              "          0,   0],\n",
              "       [  0,   0,   0,   0,   0,   0,   0,   0,   0,   0,   0,   0,  35,\n",
              "        241, 225, 160, 108,   1,   0,   0,   0,   0,   0,   0,   0,   0,\n",
              "          0,   0],\n",
              "       [  0,   0,   0,   0,   0,   0,   0,   0,   0,   0,   0,   0,   0,\n",
              "         81, 240, 253, 253, 119,  25,   0,   0,   0,   0,   0,   0,   0,\n",
              "          0,   0],\n",
              "       [  0,   0,   0,   0,   0,   0,   0,   0,   0,   0,   0,   0,   0,\n",
              "          0,  45, 186, 253, 253, 150,  27,   0,   0,   0,   0,   0,   0,\n",
              "          0,   0],\n",
              "       [  0,   0,   0,   0,   0,   0,   0,   0,   0,   0,   0,   0,   0,\n",
              "          0,   0,  16,  93, 252, 253, 187,   0,   0,   0,   0,   0,   0,\n",
              "          0,   0],\n",
              "       [  0,   0,   0,   0,   0,   0,   0,   0,   0,   0,   0,   0,   0,\n",
              "          0,   0,   0,   0, 249, 253, 249,  64,   0,   0,   0,   0,   0,\n",
              "          0,   0],\n",
              "       [  0,   0,   0,   0,   0,   0,   0,   0,   0,   0,   0,   0,   0,\n",
              "          0,  46, 130, 183, 253, 253, 207,   2,   0,   0,   0,   0,   0,\n",
              "          0,   0],\n",
              "       [  0,   0,   0,   0,   0,   0,   0,   0,   0,   0,   0,   0,  39,\n",
              "        148, 229, 253, 253, 253, 250, 182,   0,   0,   0,   0,   0,   0,\n",
              "          0,   0],\n",
              "       [  0,   0,   0,   0,   0,   0,   0,   0,   0,   0,  24, 114, 221,\n",
              "        253, 253, 253, 253, 201,  78,   0,   0,   0,   0,   0,   0,   0,\n",
              "          0,   0],\n",
              "       [  0,   0,   0,   0,   0,   0,   0,   0,  23,  66, 213, 253, 253,\n",
              "        253, 253, 198,  81,   2,   0,   0,   0,   0,   0,   0,   0,   0,\n",
              "          0,   0],\n",
              "       [  0,   0,   0,   0,   0,   0,  18, 171, 219, 253, 253, 253, 253,\n",
              "        195,  80,   9,   0,   0,   0,   0,   0,   0,   0,   0,   0,   0,\n",
              "          0,   0],\n",
              "       [  0,   0,   0,   0,  55, 172, 226, 253, 253, 253, 253, 244, 133,\n",
              "         11,   0,   0,   0,   0,   0,   0,   0,   0,   0,   0,   0,   0,\n",
              "          0,   0],\n",
              "       [  0,   0,   0,   0, 136, 253, 253, 253, 212, 135, 132,  16,   0,\n",
              "          0,   0,   0,   0,   0,   0,   0,   0,   0,   0,   0,   0,   0,\n",
              "          0,   0],\n",
              "       [  0,   0,   0,   0,   0,   0,   0,   0,   0,   0,   0,   0,   0,\n",
              "          0,   0,   0,   0,   0,   0,   0,   0,   0,   0,   0,   0,   0,\n",
              "          0,   0],\n",
              "       [  0,   0,   0,   0,   0,   0,   0,   0,   0,   0,   0,   0,   0,\n",
              "          0,   0,   0,   0,   0,   0,   0,   0,   0,   0,   0,   0,   0,\n",
              "          0,   0],\n",
              "       [  0,   0,   0,   0,   0,   0,   0,   0,   0,   0,   0,   0,   0,\n",
              "          0,   0,   0,   0,   0,   0,   0,   0,   0,   0,   0,   0,   0,\n",
              "          0,   0]], dtype=uint8)"
            ]
          },
          "metadata": {
            "tags": []
          },
          "execution_count": 14
        }
      ]
    },
    {
      "cell_type": "markdown",
      "metadata": {
        "id": "ZOvgQqhUM6JT"
      },
      "source": [
        "#Plotting image"
      ]
    },
    {
      "cell_type": "code",
      "metadata": {
        "id": "9IeItidcKfkb"
      },
      "source": [
        "import matplotlib.pyplot as plt\n",
        "import numpy as np\n",
        "from PIL import Image"
      ],
      "execution_count": 15,
      "outputs": []
    },
    {
      "cell_type": "code",
      "metadata": {
        "id": "eNqVgtr3MljU"
      },
      "source": [
        "def plot_image(img):\n",
        "  plt.imshow(img, cmap ='Greys')\n",
        "  plt.show()"
      ],
      "execution_count": 16,
      "outputs": []
    },
    {
      "cell_type": "code",
      "metadata": {
        "colab": {
          "base_uri": "https://localhost:8080/",
          "height": 265
        },
        "id": "_jHAjzlpLz1f",
        "outputId": "1422ca75-672e-436e-a560-53522f885d5e"
      },
      "source": [
        "plot_image(x_train[0])"
      ],
      "execution_count": 17,
      "outputs": [
        {
          "output_type": "display_data",
          "data": {
            "image/png": "[encoded data removed]",
            "text/plain": [
              "<Figure size 432x288 with 1 Axes>"
            ]
          },
          "metadata": {
            "tags": [],
            "needs_background": "light"
          }
        }
      ]
    },
    {
      "cell_type": "code",
      "metadata": {
        "colab": {
          "base_uri": "https://localhost:8080/"
        },
        "id": "d-StF-nyMBGb",
        "outputId": "564343e1-a2a3-411d-b80a-3528f289f1b8"
      },
      "source": [
        "y_train[0]"
      ],
      "execution_count": 18,
      "outputs": [
        {
          "output_type": "execute_result",
          "data": {
            "text/plain": [
              "5"
            ]
          },
          "metadata": {
            "tags": []
          },
          "execution_count": 18
        }
      ]
    },
    {
      "cell_type": "markdown",
      "metadata": {
        "id": "ddoruILjAcNz"
      },
      "source": [
        ""
      ]
    },
    {
      "cell_type": "code",
      "metadata": {
        "id": "Y6ovmeZhBYw5"
      },
      "source": [
        "num_classes = 10\n",
        "y_train = keras.utils.to_categorical(y_train, num_classes)\n",
        "y_test = keras.utils.to_categorical(y_test, num_classes)"
      ],
      "execution_count": 19,
      "outputs": []
    },
    {
      "cell_type": "code",
      "metadata": {
        "colab": {
          "base_uri": "https://localhost:8080/"
        },
        "id": "2drMcsDxDjzP",
        "outputId": "b24457e2-7a6b-407e-ce04-4a6fc3a1299e"
      },
      "source": [
        "y_train.shape"
      ],
      "execution_count": 20,
      "outputs": [
        {
          "output_type": "execute_result",
          "data": {
            "text/plain": [
              "(60000, 10)"
            ]
          },
          "metadata": {
            "tags": []
          },
          "execution_count": 20
        }
      ]
    },
    {
      "cell_type": "code",
      "metadata": {
        "colab": {
          "base_uri": "https://localhost:8080/"
        },
        "id": "YNB9cK8ODliR",
        "outputId": "a71ded52-3afd-400d-b0c9-f1d41b1b263c"
      },
      "source": [
        "y_test.shape"
      ],
      "execution_count": 21,
      "outputs": [
        {
          "output_type": "execute_result",
          "data": {
            "text/plain": [
              "(10000, 10)"
            ]
          },
          "metadata": {
            "tags": []
          },
          "execution_count": 21
        }
      ]
    },
    {
      "cell_type": "code",
      "metadata": {
        "id": "VeMk-SERAcq5"
      },
      "source": [
        "x_train = x_train / 255\n",
        "x_test = x_test / 255\n",
        "\n",
        "x_train = x_train.reshape(-1,28,28,1)\n",
        "x_test = x_test.reshape(-1,28,28,1)"
      ],
      "execution_count": 22,
      "outputs": []
    },
    {
      "cell_type": "code",
      "metadata": {
        "colab": {
          "base_uri": "https://localhost:8080/"
        },
        "id": "ZbHdm7PPDfjk",
        "outputId": "3e377c57-4399-47f2-fd71-fd4e3a531ab7"
      },
      "source": [
        "x_train.shape"
      ],
      "execution_count": 23,
      "outputs": [
        {
          "output_type": "execute_result",
          "data": {
            "text/plain": [
              "(60000, 28, 28, 1)"
            ]
          },
          "metadata": {
            "tags": []
          },
          "execution_count": 23
        }
      ]
    },
    {
      "cell_type": "code",
      "metadata": {
        "colab": {
          "base_uri": "https://localhost:8080/"
        },
        "id": "VzTL205_DhTV",
        "outputId": "fc4f2d64-6ecb-48d5-ebbe-65a13bbb20eb"
      },
      "source": [
        "x_test.shape"
      ],
      "execution_count": 24,
      "outputs": [
        {
          "output_type": "execute_result",
          "data": {
            "text/plain": [
              "(10000, 28, 28, 1)"
            ]
          },
          "metadata": {
            "tags": []
          },
          "execution_count": 24
        }
      ]
    },
    {
      "cell_type": "code",
      "metadata": {
        "id": "gly3etVTAdBc"
      },
      "source": [
        "from tensorflow.keras.models import Sequential\n",
        "from tensorflow.keras.layers import (\n",
        "    Dense,\n",
        "    Conv2D,\n",
        "    MaxPool2D,\n",
        "    Flatten,\n",
        "    Dropout,\n",
        "    BatchNormalization,\n",
        ")\n",
        "\n",
        "model = Sequential()\n",
        "model.add(Conv2D(25, (3, 3), strides=1, padding=\"same\", activation=\"relu\", \n",
        "                 input_shape=(28, 28, 1)))\n",
        "model.add(BatchNormalization())\n",
        "model.add(MaxPool2D((2, 2), strides=2, padding=\"same\"))\n",
        "model.add(Conv2D(25, (3, 3), strides=1, padding=\"same\", activation=\"relu\"))\n",
        "model.add(Dropout(0.2))\n",
        "model.add(BatchNormalization())\n",
        "model.add(MaxPool2D((2, 2), strides=2, padding=\"same\"))\n",
        "model.add(Conv2D(25, (3, 3), strides=1, padding=\"same\", activation=\"relu\"))\n",
        "model.add(BatchNormalization())\n",
        "model.add(MaxPool2D((2, 2), strides=2, padding=\"same\"))\n",
        "model.add(Flatten())\n",
        "model.add(Dense(units=64, activation=\"relu\"))\n",
        "model.add(Dropout(0.3))\n",
        "model.add(Dense(units=10, activation=\"softmax\"))"
      ],
      "execution_count": 25,
      "outputs": []
    },
    {
      "cell_type": "markdown",
      "metadata": {
        "id": "y9AO9Z0IMuH8"
      },
      "source": [
        "#without data augmentation"
      ]
    },
    {
      "cell_type": "code",
      "metadata": {
        "id": "IW8Gu0c7MxmY"
      },
      "source": [
        "model.compile(loss=\"categorical_crossentropy\", metrics=[\"accuracy\"])"
      ],
      "execution_count": 26,
      "outputs": []
    },
    {
      "cell_type": "code",
      "metadata": {
        "colab": {
          "base_uri": "https://localhost:8080/"
        },
        "id": "dPXvobMIMxkM",
        "outputId": "47bc3f98-e63e-49e0-9dd7-ad808372d88e"
      },
      "source": [
        "history1 = model.fit(x_train, y_train, epochs=10, verbose=1, validation_data=(x_test, y_test))"
      ],
      "execution_count": 28,
      "outputs": [
        {
          "output_type": "stream",
          "text": [
            "Epoch 1/10\n",
            "1875/1875 [==============================] - 84s 45ms/step - loss: 0.0490 - accuracy: 0.9872 - val_loss: 0.0546 - val_accuracy: 0.9826\n",
            "Epoch 2/10\n",
            "1875/1875 [==============================] - 85s 45ms/step - loss: 0.0473 - accuracy: 0.9879 - val_loss: 0.0306 - val_accuracy: 0.9897\n",
            "Epoch 3/10\n",
            "1875/1875 [==============================] - 86s 46ms/step - loss: 0.0438 - accuracy: 0.9882 - val_loss: 0.0407 - val_accuracy: 0.9883\n",
            "Epoch 4/10\n",
            "1875/1875 [==============================] - 86s 46ms/step - loss: 0.0443 - accuracy: 0.9882 - val_loss: 0.0333 - val_accuracy: 0.9900\n",
            "Epoch 5/10\n",
            "1875/1875 [==============================] - 85s 46ms/step - loss: 0.0409 - accuracy: 0.9891 - val_loss: 0.0444 - val_accuracy: 0.9871\n",
            "Epoch 6/10\n",
            "1875/1875 [==============================] - 85s 45ms/step - loss: 0.0393 - accuracy: 0.9893 - val_loss: 0.0405 - val_accuracy: 0.9884\n",
            "Epoch 7/10\n",
            "1875/1875 [==============================] - 85s 45ms/step - loss: 0.0372 - accuracy: 0.9901 - val_loss: 0.0426 - val_accuracy: 0.9881\n",
            "Epoch 8/10\n",
            "1875/1875 [==============================] - 87s 46ms/step - loss: 0.0365 - accuracy: 0.9906 - val_loss: 0.0342 - val_accuracy: 0.9897\n",
            "Epoch 9/10\n",
            "1875/1875 [==============================] - 88s 47ms/step - loss: 0.0340 - accuracy: 0.9910 - val_loss: 0.0352 - val_accuracy: 0.9913\n",
            "Epoch 10/10\n",
            "1875/1875 [==============================] - 86s 46ms/step - loss: 0.0317 - accuracy: 0.9906 - val_loss: 0.0379 - val_accuracy: 0.9905\n"
          ],
          "name": "stdout"
        }
      ]
    },
    {
      "cell_type": "code",
      "metadata": {
        "colab": {
          "base_uri": "https://localhost:8080/"
        },
        "id": "pzIB91vTMxg-",
        "outputId": "9d35f3e0-b558-4030-bf92-a0a66b84fe70"
      },
      "source": [
        "model.summary()"
      ],
      "execution_count": 29,
      "outputs": [
        {
          "output_type": "stream",
          "text": [
            "Model: \"sequential\"\n",
            "_________________________________________________________________\n",
            "Layer (type)                 Output Shape              Param #   \n",
            "=================================================================\n",
            "conv2d (Conv2D)              (None, 28, 28, 25)        250       \n",
            "_________________________________________________________________\n",
            "batch_normalization (BatchNo (None, 28, 28, 25)        100       \n",
            "_________________________________________________________________\n",
            "max_pooling2d (MaxPooling2D) (None, 14, 14, 25)        0         \n",
            "_________________________________________________________________\n",
            "conv2d_1 (Conv2D)            (None, 14, 14, 25)        5650      \n",
            "_________________________________________________________________\n",
            "dropout (Dropout)            (None, 14, 14, 25)        0         \n",
            "_________________________________________________________________\n",
            "batch_normalization_1 (Batch (None, 14, 14, 25)        100       \n",
            "_________________________________________________________________\n",
            "max_pooling2d_1 (MaxPooling2 (None, 7, 7, 25)          0         \n",
            "_________________________________________________________________\n",
            "conv2d_2 (Conv2D)            (None, 7, 7, 25)          5650      \n",
            "_________________________________________________________________\n",
            "batch_normalization_2 (Batch (None, 7, 7, 25)          100       \n",
            "_________________________________________________________________\n",
            "max_pooling2d_2 (MaxPooling2 (None, 4, 4, 25)          0         \n",
            "_________________________________________________________________\n",
            "flatten (Flatten)            (None, 400)               0         \n",
            "_________________________________________________________________\n",
            "dense (Dense)                (None, 64)                25664     \n",
            "_________________________________________________________________\n",
            "dropout_1 (Dropout)          (None, 64)                0         \n",
            "_________________________________________________________________\n",
            "dense_1 (Dense)              (None, 10)                650       \n",
            "=================================================================\n",
            "Total params: 38,164\n",
            "Trainable params: 38,014\n",
            "Non-trainable params: 150\n",
            "_________________________________________________________________\n"
          ],
          "name": "stdout"
        }
      ]
    },
    {
      "cell_type": "code",
      "metadata": {
        "colab": {
          "base_uri": "https://localhost:8080/",
          "height": 279
        },
        "id": "kVpCxTPWMxeH",
        "outputId": "67ebaacf-1d4f-4099-95a4-20e822d0bd6f"
      },
      "source": [
        "loss = history1.history['loss']\n",
        "epochs = range(len(loss))\n",
        "plt.plot(epochs, loss, 'b', label='Training Loss')\n",
        "plt.xlabel('Epochs')\n",
        "plt.ylabel('Loss')\n",
        "plt.show()"
      ],
      "execution_count": 30,
      "outputs": [
        {
          "output_type": "display_data",
          "data": {
            "image/png": "[encoded data removed]",
            "text/plain": [
              "<Figure size 432x288 with 1 Axes>"
            ]
          },
          "metadata": {
            "tags": [],
            "needs_background": "light"
          }
        }
      ]
    },
    {
      "cell_type": "code",
      "metadata": {
        "colab": {
          "base_uri": "https://localhost:8080/",
          "height": 279
        },
        "id": "lQa6hNOAMxbi",
        "outputId": "da0140e8-f426-470a-f87f-0e30d4fb9b48"
      },
      "source": [
        "acc = history1.history['accuracy']\n",
        "epochs = range(len(acc))\n",
        "plt.plot(epochs, acc, 'b', label='Training accuracy')\n",
        "plt.xlabel('Epochs')\n",
        "plt.ylabel('Accuracy')\n",
        "plt.show()"
      ],
      "execution_count": 31,
      "outputs": [
        {
          "output_type": "display_data",
          "data": {
            "image/png": "[encoded data removed]",
            "text/plain": [
              "<Figure size 432x288 with 1 Axes>"
            ]
          },
          "metadata": {
            "tags": [],
            "needs_background": "light"
          }
        }
      ]
    },
    {
      "cell_type": "markdown",
      "metadata": {
        "id": "IpkWhixCMqFx"
      },
      "source": [
        "#with data augmentation"
      ]
    },
    {
      "cell_type": "code",
      "metadata": {
        "id": "lhxF8EbjAwtt"
      },
      "source": [
        "from tensorflow.keras.preprocessing.image import ImageDataGenerator\n",
        "\n",
        "datagen = ImageDataGenerator(\n",
        "    rotation_range=10, \n",
        "    zoom_range=0.1,  \n",
        "    width_shift_range=0.1,  \n",
        "    height_shift_range=0.1,  \n",
        "    horizontal_flip=True,  \n",
        "    vertical_flip=False, \n",
        ")  "
      ],
      "execution_count": 32,
      "outputs": []
    },
    {
      "cell_type": "code",
      "metadata": {
        "colab": {
          "base_uri": "https://localhost:8080/",
          "height": 257
        },
        "id": "jjot47c-Dx7S",
        "outputId": "3523e29f-ef38-46e8-89b7-5e2a579f4606"
      },
      "source": [
        "import matplotlib.pyplot as plt\n",
        "import numpy as np\n",
        "batch_size = 32\n",
        "img_iter = datagen.flow(x_train, y_train, batch_size=batch_size)\n",
        "\n",
        "x, y = img_iter.next()\n",
        "fig, ax = plt.subplots(nrows=4, ncols=8)\n",
        "for i in range(batch_size):\n",
        "    image = x[i]\n",
        "    ax.flatten()[i].imshow(np.squeeze(image))\n",
        "plt.show()"
      ],
      "execution_count": 33,
      "outputs": [
        {
          "output_type": "display_data",
          "data": {
            "image/png": "[encoded data removed]",
            "text/plain": [
              "<Figure size 432x288 with 32 Axes>"
            ]
          },
          "metadata": {
            "tags": [],
            "needs_background": "light"
          }
        }
      ]
    },
    {
      "cell_type": "code",
      "metadata": {
        "id": "E5SEA-tpBETw"
      },
      "source": [
        "datagen.fit(x_train)"
      ],
      "execution_count": 34,
      "outputs": []
    },
    {
      "cell_type": "code",
      "metadata": {
        "id": "jikdLSGYBJBT"
      },
      "source": [
        "model.compile(loss='categorical_crossentropy', metrics=['accuracy'])"
      ],
      "execution_count": 35,
      "outputs": []
    },
    {
      "cell_type": "code",
      "metadata": {
        "colab": {
          "base_uri": "https://localhost:8080/"
        },
        "id": "IFkYnHT9BLHc",
        "outputId": "308aeaba-6fff-492b-a363-7e8ae03d4026"
      },
      "source": [
        "history2 = model.fit(img_iter,\n",
        "          epochs=30,\n",
        "          steps_per_epoch=len(x_train)/batch_size, \n",
        "          validation_data=(x_test, y_test))"
      ],
      "execution_count": 36,
      "outputs": [
        {
          "output_type": "stream",
          "text": [
            "Epoch 1/30\n",
            "1875/1875 [==============================] - 104s 55ms/step - loss: 0.4111 - accuracy: 0.8724 - val_loss: 0.0641 - val_accuracy: 0.9820\n",
            "Epoch 2/30\n",
            "1875/1875 [==============================] - 102s 54ms/step - loss: 0.2314 - accuracy: 0.9321 - val_loss: 0.0789 - val_accuracy: 0.9764\n",
            "Epoch 3/30\n",
            "1875/1875 [==============================] - 103s 55ms/step - loss: 0.1979 - accuracy: 0.9419 - val_loss: 0.0580 - val_accuracy: 0.9817\n",
            "Epoch 4/30\n",
            "1875/1875 [==============================] - 101s 54ms/step - loss: 0.1799 - accuracy: 0.9474 - val_loss: 0.0760 - val_accuracy: 0.9787\n",
            "Epoch 5/30\n",
            "1875/1875 [==============================] - 102s 54ms/step - loss: 0.1667 - accuracy: 0.9512 - val_loss: 0.1013 - val_accuracy: 0.9737\n",
            "Epoch 6/30\n",
            "1875/1875 [==============================] - 102s 54ms/step - loss: 0.1585 - accuracy: 0.9560 - val_loss: 0.0584 - val_accuracy: 0.9809\n",
            "Epoch 7/30\n",
            "1875/1875 [==============================] - 102s 54ms/step - loss: 0.1481 - accuracy: 0.9575 - val_loss: 0.0609 - val_accuracy: 0.9834\n",
            "Epoch 8/30\n",
            "1875/1875 [==============================] - 102s 55ms/step - loss: 0.1443 - accuracy: 0.9581 - val_loss: 0.0511 - val_accuracy: 0.9845\n",
            "Epoch 9/30\n",
            "1875/1875 [==============================] - 101s 54ms/step - loss: 0.1442 - accuracy: 0.9590 - val_loss: 0.0544 - val_accuracy: 0.9839\n",
            "Epoch 10/30\n",
            "1875/1875 [==============================] - 102s 55ms/step - loss: 0.1390 - accuracy: 0.9590 - val_loss: 0.0530 - val_accuracy: 0.9827\n",
            "Epoch 11/30\n",
            "1875/1875 [==============================] - 101s 54ms/step - loss: 0.1350 - accuracy: 0.9606 - val_loss: 0.0640 - val_accuracy: 0.9794\n",
            "Epoch 12/30\n",
            "1875/1875 [==============================] - 101s 54ms/step - loss: 0.1329 - accuracy: 0.9611 - val_loss: 0.0569 - val_accuracy: 0.9827\n",
            "Epoch 13/30\n",
            "1875/1875 [==============================] - 101s 54ms/step - loss: 0.1275 - accuracy: 0.9628 - val_loss: 0.0498 - val_accuracy: 0.9847\n",
            "Epoch 14/30\n",
            "1875/1875 [==============================] - 101s 54ms/step - loss: 0.1277 - accuracy: 0.9644 - val_loss: 0.0648 - val_accuracy: 0.9790\n",
            "Epoch 15/30\n",
            "1875/1875 [==============================] - 102s 54ms/step - loss: 0.1243 - accuracy: 0.9641 - val_loss: 0.0475 - val_accuracy: 0.9858\n",
            "Epoch 16/30\n",
            "1875/1875 [==============================] - 101s 54ms/step - loss: 0.1237 - accuracy: 0.9643 - val_loss: 0.0540 - val_accuracy: 0.9831\n",
            "Epoch 17/30\n",
            "1875/1875 [==============================] - 101s 54ms/step - loss: 0.1230 - accuracy: 0.9653 - val_loss: 0.0452 - val_accuracy: 0.9851\n",
            "Epoch 18/30\n",
            "1875/1875 [==============================] - 102s 54ms/step - loss: 0.1197 - accuracy: 0.9649 - val_loss: 0.0529 - val_accuracy: 0.9827\n",
            "Epoch 19/30\n",
            "1875/1875 [==============================] - 103s 55ms/step - loss: 0.1197 - accuracy: 0.9656 - val_loss: 0.0653 - val_accuracy: 0.9813\n",
            "Epoch 20/30\n",
            "1875/1875 [==============================] - 103s 55ms/step - loss: 0.1187 - accuracy: 0.9668 - val_loss: 0.0496 - val_accuracy: 0.9847\n",
            "Epoch 21/30\n",
            "1875/1875 [==============================] - 103s 55ms/step - loss: 0.1160 - accuracy: 0.9664 - val_loss: 0.0434 - val_accuracy: 0.9861\n",
            "Epoch 22/30\n",
            "1875/1875 [==============================] - 104s 55ms/step - loss: 0.1168 - accuracy: 0.9666 - val_loss: 0.0495 - val_accuracy: 0.9840\n",
            "Epoch 23/30\n",
            "1875/1875 [==============================] - 104s 55ms/step - loss: 0.1161 - accuracy: 0.9672 - val_loss: 0.0487 - val_accuracy: 0.9851\n",
            "Epoch 24/30\n",
            "1875/1875 [==============================] - 105s 56ms/step - loss: 0.1162 - accuracy: 0.9675 - val_loss: 0.0476 - val_accuracy: 0.9852\n",
            "Epoch 25/30\n",
            "1875/1875 [==============================] - 103s 55ms/step - loss: 0.1124 - accuracy: 0.9678 - val_loss: 0.0468 - val_accuracy: 0.9858\n",
            "Epoch 26/30\n",
            "1875/1875 [==============================] - 103s 55ms/step - loss: 0.1144 - accuracy: 0.9676 - val_loss: 0.0486 - val_accuracy: 0.9850\n",
            "Epoch 27/30\n",
            "1875/1875 [==============================] - 103s 55ms/step - loss: 0.1133 - accuracy: 0.9680 - val_loss: 0.0631 - val_accuracy: 0.9819\n",
            "Epoch 28/30\n",
            "1875/1875 [==============================] - 102s 55ms/step - loss: 0.1124 - accuracy: 0.9682 - val_loss: 0.0848 - val_accuracy: 0.9743\n",
            "Epoch 29/30\n",
            "1875/1875 [==============================] - 100s 53ms/step - loss: 0.1120 - accuracy: 0.9678 - val_loss: 0.0533 - val_accuracy: 0.9841\n",
            "Epoch 30/30\n",
            "1875/1875 [==============================] - 102s 54ms/step - loss: 0.1125 - accuracy: 0.9673 - val_loss: 0.0422 - val_accuracy: 0.9862\n"
          ],
          "name": "stdout"
        }
      ]
    },
    {
      "cell_type": "code",
      "metadata": {
        "colab": {
          "base_uri": "https://localhost:8080/"
        },
        "id": "sOvA9Tn1IwmM",
        "outputId": "0abe87f6-dcae-46b3-97c7-87b590ff92ea"
      },
      "source": [
        "history2"
      ],
      "execution_count": 37,
      "outputs": [
        {
          "output_type": "execute_result",
          "data": {
            "text/plain": [
              "<tensorflow.python.keras.callbacks.History at 0x7ff93821ad10>"
            ]
          },
          "metadata": {
            "tags": []
          },
          "execution_count": 37
        }
      ]
    },
    {
      "cell_type": "code",
      "metadata": {
        "id": "h30XzTlWBNSl",
        "colab": {
          "base_uri": "https://localhost:8080/",
          "height": 279
        },
        "outputId": "9869cf36-cc8b-47e7-bb37-20eac55c72a5"
      },
      "source": [
        "loss = history2.history['loss']\n",
        "epochs = range(len(loss))\n",
        "plt.plot(epochs, loss, 'b', label='Training Loss')\n",
        "plt.xlabel('Epochs')\n",
        "plt.ylabel('Loss')\n",
        "plt.show()"
      ],
      "execution_count": 38,
      "outputs": [
        {
          "output_type": "display_data",
          "data": {
            "image/png": "[encoded data removed]",
            "text/plain": [
              "<Figure size 432x288 with 1 Axes>"
            ]
          },
          "metadata": {
            "tags": [],
            "needs_background": "light"
          }
        }
      ]
    },
    {
      "cell_type": "code",
      "metadata": {
        "colab": {
          "base_uri": "https://localhost:8080/",
          "height": 279
        },
        "id": "CF7hZ34-ME8q",
        "outputId": "94154ef6-68aa-4a0e-c130-7864f8409300"
      },
      "source": [
        "acc = history2.history['accuracy']\n",
        "epochs = range(len(acc))\n",
        "plt.plot(epochs, acc, 'b', label='Training accuracy')\n",
        "plt.xlabel('Epochs')\n",
        "plt.ylabel('Accuracy')\n",
        "plt.show()"
      ],
      "execution_count": 39,
      "outputs": [
        {
          "output_type": "display_data",
          "data": {
            "image/png": "[encoded data removed]",
            "text/plain": [
              "<Figure size 432x288 with 1 Axes>"
            ]
          },
          "metadata": {
            "tags": [],
            "needs_background": "light"
          }
        }
      ]
    }
  ]
}