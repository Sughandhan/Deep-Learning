{
  "nbformat": 4,
  "nbformat_minor": 0,
  "metadata": {
    "colab": {
      "name": "Iris data classification using tensorflow",
      "provenance": [],
      "collapsed_sections": []
    },
    "kernelspec": {
      "name": "python3",
      "display_name": "Python 3"
    },
    "language_info": {
      "name": "python"
    }
  },
  "cells": [
    {
      "cell_type": "code",
      "metadata": {
        "id": "kxR3jpKoSY-8"
      },
      "source": [
        "import tensorflow as tf\n",
        "import pandas as pd\n",
        "import matplotlib.pyplot as plt\n",
        "import numpy as np\n",
        "import sklearn\n",
        "from sklearn import datasets\n",
        "from sklearn.datasets import  load_iris\n",
        "\n",
        "from tensorflow import keras\n",
        "from sklearn.preprocessing import LabelEncoder\n",
        "from sklearn.preprocessing import OneHotEncoder\n",
        "from keras import utils\n",
        "from sklearn.model_selection import train_test_split"
      ],
      "execution_count": 1,
      "outputs": []
    },
    {
      "cell_type": "code",
      "metadata": {
        "id": "Fldauww4dR_-"
      },
      "source": [
        "dataset = datasets.load_iris()\n",
        "#dataset"
      ],
      "execution_count": 2,
      "outputs": []
    },
    {
      "cell_type": "code",
      "metadata": {
        "colab": {
          "base_uri": "https://localhost:8080/"
        },
        "id": "eEj6edPsecnT",
        "outputId": "a7cd5a67-3082-45f3-8d5f-92aee30ae54c"
      },
      "source": [
        "X = dataset.data\n",
        "Y = dataset.target\n",
        "Y = Y.reshape(len(Y), 1)\n",
        "print(X.shape)\n",
        "print(Y.shape)\n",
        "#print(X)\n",
        "#print(Y)"
      ],
      "execution_count": 3,
      "outputs": [
        {
          "output_type": "stream",
          "text": [
            "(150, 4)\n",
            "(150, 1)\n"
          ],
          "name": "stdout"
        }
      ]
    },
    {
      "cell_type": "code",
      "metadata": {
        "colab": {
          "base_uri": "https://localhost:8080/"
        },
        "id": "T4o1wiD-iTyJ",
        "outputId": "745561a2-12af-4e74-cb37-b03d8700b468"
      },
      "source": [
        "Matrix = np.append(X, Y, axis=1)\n",
        "print(Matrix[0])"
      ],
      "execution_count": 4,
      "outputs": [
        {
          "output_type": "stream",
          "text": [
            "[5.1 3.5 1.4 0.2 0. ]\n"
          ],
          "name": "stdout"
        }
      ]
    },
    {
      "cell_type": "code",
      "metadata": {
        "colab": {
          "base_uri": "https://localhost:8080/"
        },
        "id": "AdTUJsyMi9nm",
        "outputId": "c1f974c8-3d00-4e9e-a492-3572723235fd"
      },
      "source": [
        "np.random.shuffle(Matrix)\n",
        "print(Matrix[0])"
      ],
      "execution_count": 5,
      "outputs": [
        {
          "output_type": "stream",
          "text": [
            "[6.7 2.5 5.8 1.8 2. ]\n"
          ],
          "name": "stdout"
        }
      ]
    },
    {
      "cell_type": "code",
      "metadata": {
        "id": "oEWC_dSojD32"
      },
      "source": [
        "x_train = Matrix[:120,:4]\n",
        "y_train = Matrix[:120,4]\n",
        "x_test = Matrix[120:,:4]\n",
        "y_test = Matrix[120:,4]"
      ],
      "execution_count": 6,
      "outputs": []
    },
    {
      "cell_type": "code",
      "metadata": {
        "id": "C8AjGIXGfPNx"
      },
      "source": [
        "model = tf.keras.Sequential([\n",
        "                             keras.layers.Dense(units = 8, activation='linear' ,input_shape=(4,)),\n",
        "                             keras.layers.Dense(units = 8, activation = 'linear'),\n",
        "                             keras.layers.Dense(units = 3, activation = 'softmax')\n",
        "])"
      ],
      "execution_count": 7,
      "outputs": []
    },
    {
      "cell_type": "code",
      "metadata": {
        "id": "I13lzxbykay6"
      },
      "source": [
        "opti = tf.keras.optimizers.Adam(learning_rate=0.01)"
      ],
      "execution_count": 8,
      "outputs": []
    },
    {
      "cell_type": "code",
      "metadata": {
        "id": "zkXrJPOZfPLj"
      },
      "source": [
        "model.compile(optimizer=opti, loss='sparse_categorical_crossentropy', metrics = ['accuracy'], )"
      ],
      "execution_count": 9,
      "outputs": []
    },
    {
      "cell_type": "code",
      "metadata": {
        "colab": {
          "base_uri": "https://localhost:8080/"
        },
        "id": "x-s_c3jrfPIk",
        "outputId": "3513de6c-8be0-4b84-9530-c0f4e2820346"
      },
      "source": [
        "model.fit(x_train, y_train, epochs = 20)"
      ],
      "execution_count": null,
      "outputs": [
        {
          "output_type": "stream",
          "text": [
            "Epoch 1/20\n",
            "4/4 [==============================] - 1s 5ms/step - loss: 1.2686 - accuracy: 0.5500\n",
            "Epoch 2/20\n",
            "4/4 [==============================] - 0s 5ms/step - loss: 0.8742 - accuracy: 0.4167\n",
            "Epoch 3/20\n",
            "4/4 [==============================] - 0s 6ms/step - loss: 0.7741 - accuracy: 0.4417\n",
            "Epoch 4/20\n",
            "4/4 [==============================] - 0s 5ms/step - loss: 0.5038 - accuracy: 0.8583\n",
            "Epoch 5/20\n",
            "4/4 [==============================] - 0s 5ms/step - loss: 0.5274 - accuracy: 0.6583\n",
            "Epoch 6/20\n",
            "4/4 [==============================] - 0s 5ms/step - loss: 0.4838 - accuracy: 0.7667\n",
            "Epoch 7/20\n",
            "4/4 [==============================] - 0s 3ms/step - loss: 0.4038 - accuracy: 0.9583\n",
            "Epoch 8/20\n",
            "4/4 [==============================] - 0s 4ms/step - loss: 0.3685 - accuracy: 0.9667\n",
            "Epoch 9/20\n",
            "4/4 [==============================] - 0s 5ms/step - loss: 0.3608 - accuracy: 0.9583\n",
            "Epoch 10/20\n",
            "4/4 [==============================] - 0s 5ms/step - loss: 0.3344 - accuracy: 0.9417\n",
            "Epoch 11/20\n",
            "4/4 [==============================] - 0s 9ms/step - loss: 0.3012 - accuracy: 0.9667\n",
            "Epoch 12/20\n",
            "4/4 [==============================] - 0s 5ms/step - loss: 0.2787 - accuracy: 0.9583\n",
            "Epoch 13/20\n",
            "4/4 [==============================] - 0s 4ms/step - loss: 0.2566 - accuracy: 0.9667\n",
            "Epoch 14/20\n",
            "4/4 [==============================] - 0s 9ms/step - loss: 0.2445 - accuracy: 0.9667\n",
            "Epoch 15/20\n",
            "4/4 [==============================] - 0s 6ms/step - loss: 0.2241 - accuracy: 0.9667\n",
            "Epoch 16/20\n",
            "4/4 [==============================] - 0s 3ms/step - loss: 0.2105 - accuracy: 0.9750\n",
            "Epoch 17/20\n",
            "4/4 [==============================] - 0s 3ms/step - loss: 0.1999 - accuracy: 0.9667\n",
            "Epoch 18/20\n",
            "4/4 [==============================] - 0s 3ms/step - loss: 0.1918 - accuracy: 0.9583\n",
            "Epoch 19/20\n",
            "4/4 [==============================] - 0s 3ms/step - loss: 0.1718 - accuracy: 0.9583\n",
            "Epoch 20/20\n",
            "4/4 [==============================] - 0s 3ms/step - loss: 0.1716 - accuracy: 0.9667\n"
          ],
          "name": "stdout"
        },
        {
          "output_type": "execute_result",
          "data": {
            "text/plain": [
              "<tensorflow.python.keras.callbacks.History at 0x7f83198ad950>"
            ]
          },
          "metadata": {
            "tags": []
          },
          "execution_count": 10
        }
      ]
    },
    {
      "cell_type": "code",
      "metadata": {
        "colab": {
          "base_uri": "https://localhost:8080/"
        },
        "id": "e_IXtGfMfPFW",
        "outputId": "e3939dc8-4bd5-471f-dc97-7b86ac7dd108"
      },
      "source": [
        "model.evaluate(x_test, y_test)"
      ],
      "execution_count": null,
      "outputs": [
        {
          "output_type": "stream",
          "text": [
            "1/1 [==============================] - 0s 140ms/step - loss: 0.1663 - accuracy: 0.9667\n"
          ],
          "name": "stdout"
        },
        {
          "output_type": "execute_result",
          "data": {
            "text/plain": [
              "[0.16629740595817566, 0.9666666388511658]"
            ]
          },
          "metadata": {
            "tags": []
          },
          "execution_count": 11
        }
      ]
    },
    {
      "cell_type": "code",
      "metadata": {
        "id": "Ih4XEDYfudwa"
      },
      "source": [
        "y_hats = model.predict(x_test) "
      ],
      "execution_count": null,
      "outputs": []
    },
    {
      "cell_type": "code",
      "metadata": {
        "colab": {
          "base_uri": "https://localhost:8080/"
        },
        "id": "FG9pae5zvSq4",
        "outputId": "4e8ca689-fc63-48ac-b49e-c94d0fa1d663"
      },
      "source": [
        "y_hats"
      ],
      "execution_count": null,
      "outputs": [
        {
          "output_type": "execute_result",
          "data": {
            "text/plain": [
              "array([[9.91758883e-01, 8.24083667e-03, 1.82301136e-07],\n",
              "       [3.50460177e-03, 7.02632010e-01, 2.93863446e-01],\n",
              "       [9.72068608e-01, 2.79258639e-02, 5.53939526e-06],\n",
              "       [1.29595549e-06, 2.92421710e-02, 9.70756531e-01],\n",
              "       [5.92697825e-06, 5.46517819e-02, 9.45342243e-01],\n",
              "       [3.45507200e-04, 3.11381638e-01, 6.88272893e-01],\n",
              "       [9.76034760e-01, 2.39622369e-02, 2.99002295e-06],\n",
              "       [7.99083151e-03, 8.51069152e-01, 1.40940025e-01],\n",
              "       [7.28659870e-05, 2.17875198e-01, 7.82051921e-01],\n",
              "       [1.05036554e-04, 2.30276659e-01, 7.69618332e-01],\n",
              "       [9.86106634e-01, 1.38922939e-02, 1.00287889e-06],\n",
              "       [8.73107056e-05, 2.04709023e-01, 7.95203626e-01],\n",
              "       [9.84441698e-01, 1.55570675e-02, 1.12184387e-06],\n",
              "       [1.34522538e-03, 5.55944502e-01, 4.42710280e-01],\n",
              "       [1.27159922e-07, 8.01597815e-03, 9.91983950e-01],\n",
              "       [3.04340138e-05, 1.35363102e-01, 8.64606440e-01],\n",
              "       [7.00242212e-03, 8.61515582e-01, 1.31481960e-01],\n",
              "       [7.65357436e-06, 7.62889981e-02, 9.23703313e-01],\n",
              "       [3.78981093e-03, 7.20120668e-01, 2.76089549e-01],\n",
              "       [9.74957228e-01, 2.50395630e-02, 3.21804760e-06],\n",
              "       [9.75664139e-01, 2.43325476e-02, 3.38962241e-06],\n",
              "       [9.33590491e-05, 2.13593155e-01, 7.86313534e-01],\n",
              "       [6.04606394e-05, 1.93337381e-01, 8.06602180e-01],\n",
              "       [9.88352597e-01, 1.16468333e-02, 5.33459456e-07],\n",
              "       [1.76558788e-05, 1.23695642e-01, 8.76286745e-01],\n",
              "       [1.04052216e-01, 8.74684095e-01, 2.12637018e-02],\n",
              "       [5.76727614e-02, 8.67273450e-01, 7.50537515e-02],\n",
              "       [9.87197578e-01, 1.28017329e-02, 7.12215581e-07],\n",
              "       [9.88415718e-01, 1.15836598e-02, 5.33144657e-07],\n",
              "       [9.88852903e-02, 8.62931609e-01, 3.81831229e-02]], dtype=float32)"
            ]
          },
          "metadata": {
            "tags": []
          },
          "execution_count": 16
        }
      ]
    },
    {
      "cell_type": "code",
      "metadata": {
        "colab": {
          "base_uri": "https://localhost:8080/"
        },
        "id": "4BIy8DlP1tLs",
        "outputId": "dc0aed07-907e-416d-caa1-b98580757394"
      },
      "source": [
        "np.argmax(y_hats[0])"
      ],
      "execution_count": null,
      "outputs": [
        {
          "output_type": "execute_result",
          "data": {
            "text/plain": [
              "0"
            ]
          },
          "metadata": {
            "tags": []
          },
          "execution_count": 17
        }
      ]
    },
    {
      "cell_type": "code",
      "metadata": {
        "colab": {
          "base_uri": "https://localhost:8080/",
          "height": 282
        },
        "id": "5ZnO8WB-ut-A",
        "outputId": "1577e190-bc51-46aa-b0c4-a0014fb9ed79"
      },
      "source": [
        "values =[]\n",
        "predictions =[]\n",
        "for i in range(len(y_hats)):\n",
        "  l = np.argmax(y_hats[i])\n",
        "  values.append(l)\n",
        "  predictions.append(y_hats[i][l])\n",
        "\n",
        "plt.scatter( predictions, values)\n",
        "# print(len(values))\n",
        "# print(len(y_hats))"
      ],
      "execution_count": null,
      "outputs": [
        {
          "output_type": "execute_result",
          "data": {
            "text/plain": [
              "<matplotlib.collections.PathCollection at 0x7f8311fff9d0>"
            ]
          },
          "metadata": {
            "tags": []
          },
          "execution_count": 28
        },
        {
          "output_type": "display_data",
          "data": {
            "image/png": "[encoded data removed]",
            "text/plain": [
              "<Figure size 432x288 with 1 Axes>"
            ]
          },
          "metadata": {
            "tags": [],
            "needs_background": "light"
          }
        }
      ]
    },
    {
      "cell_type": "markdown",
      "metadata": {
        "id": "8Zj9lKL8dRTz"
      },
      "source": [
        ""
      ]
    },
    {
      "cell_type": "markdown",
      "metadata": {
        "id": "1pXt6ylOdRRF"
      },
      "source": [
        ""
      ]
    },
    {
      "cell_type": "markdown",
      "metadata": {
        "id": "eAZsdbKMm_9-"
      },
      "source": [
        "TESTING: sigmoid = 0.683 and 0.733\n",
        "        relu  = 0.958 and 0.933"
      ]
    }
  ]
}